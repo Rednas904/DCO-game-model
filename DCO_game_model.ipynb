{
 "cells": [
  {
   "cell_type": "markdown",
   "metadata": {},
   "source": [
    "## Modules"
   ]
  },
  {
   "cell_type": "code",
   "execution_count": null,
   "metadata": {},
   "outputs": [],
   "source": [
    "#General packages\n",
    "from collections import defaultdict\n",
    "import matplotlib.pyplot as plt #only for visualisation\n",
    "import networkx as nx #only for visualisation\n",
    "import pyomo.environ as pe\n",
    "import pyomo.opt as po\n",
    "import math\n",
    "from functools import reduce\n",
    "import operator as op\n",
    "import logging #only for managing logging\n",
    "import itertools\n",
    "\n",
    "#Packages specifically for positioning of nodes for visualisation\n",
    "import grandalf as grand\n",
    "from grandalf.layouts import SugiyamaLayout\n",
    "from grandalf.graphs import Graph, Vertex, Edge"
   ]
  },
  {
   "cell_type": "markdown",
   "metadata": {},
   "source": [
    "## System settings"
   ]
  },
  {
   "cell_type": "code",
   "execution_count": null,
   "metadata": {},
   "outputs": [],
   "source": [
    "logging.getLogger('pyomo.core').setLevel(logging.ERROR) #Don't show warnings"
   ]
  },
  {
   "cell_type": "markdown",
   "metadata": {},
   "source": [
    "## Functions"
   ]
  },
  {
   "cell_type": "code",
   "execution_count": null,
   "metadata": {},
   "outputs": [],
   "source": [
    "#Create product function (for Python versions < 3.8)\n",
    "def prod(iterable):\n",
    "    return reduce(op.mul, iterable, 1)"
   ]
  },
  {
   "cell_type": "markdown",
   "metadata": {},
   "source": [
    "## IT-Network Graph"
   ]
  },
  {
   "cell_type": "code",
   "execution_count": null,
   "metadata": {},
   "outputs": [],
   "source": [
    "#Define graph nodes\n",
    "nodes_network = set(range(1,27))\n",
    "s_network = 1 #artificial start node\n",
    "t_network = 26 #artificial end node\n",
    "targets_network = {8,9,10,11,12,16,17,18,19,20,21,22,23,24,25}#set of goal nodes\n",
    "\n",
    "#Define graph edges\n",
    "edges_network = {(2,6),(2,7),(3,15),(4,8),(5,9),(5,10),(6,13),(6,14),(6,15),(7,13),(7,14),(7,15),(13,16),(14,16),(15,17),\n",
    "    (16,9),(16,19),(16,20),(16,21),(17,18),(18,21),(21,22),(21,23),(1,2),(1,3),(1,4),(1,5),(8,26),(9,26),(10,26),(11,26),\n",
    "    (12,26),(16,26),(17,26),(18,26),(19,26),(20,26),(21,26),(22,26),(23,26),(24,26),(25,26)} #network edges\n",
    "art_edges_s_network = {(1,2),(1,3),(1,4),(1,5)}#set of edges from artificial start node\n",
    "art_edges_t_network = {(8,26),(9,26),(10,26),(11,26),(12,26),(16,26),(17,26),(18,26),(19,26),(20,26),(21,26),(22,26),\n",
    "    (23,26),(24,26),(25,26)} #set of edges from artificial end node\n",
    "\n",
    "#Define graph attributes\n",
    "att_cost = {(2,6): 2,(2,7): 2,(3,15): 3,(4,8): 4,(5,9): 5,(5,10): 5,(6,13): 1,(6,14): 1,(6,15): 1,(7,13): 1,(7,14): 1,\n",
    "    (7,15): 2,(13,16): 3,(14,16): 3,(15,17): 1,(16,9): 1,(16,19): 1,(16,20): 1,(16,21): 1,(17,18): 3,(18,21): 1,(21,22): 3,\n",
    "    (21,23): 3,(1,2): 0,(1,3): 0,(1,4): 0,(1,5): 0,(8,26): 0,(9,26): 0,(10,26): 0,(11,26): 0,(12,26): 0,(16,26): 0,\n",
    "    (17,26): 0,(18,26): 0,(19,26): 0,(20,26): 0,(21,26): 0,(22,26): 0,(23,26): 0,(24,26): 0,(25,26): 0} #attack cost from\n",
    "    #each edge\n",
    "def_cost = {(2,6): 1,(2,7): 1,(3,15): 1,(4,8): 1,(5,9): 1,(5,10): 1,(6,13): 1,(6,14): 1,(6,15): 1,(7,13): 1,(7,14): 1,\n",
    "    (7,15): 1,(13,16): 1,(14,16): 1,(15,17): 1,(16,9): 1,(16,19): 1,(16,20): 1,(16,21): 1,(17,18): 1,(18,21): 1,(21,22): 1,\n",
    "    (21,23): 1,(1,2): 100,(1,3): 100,(1,4): 100,(1,5): 100,(8,26): 100,(9,26): 100,(10,26): 100,(11,26): 100,(12,26): 100,\n",
    "    (16,26): 100,(17,26): 100,(18,26): 100,(19,26): 100,(20,26): 100,(21,26): 100,(22,26): 100,(23,26): 100,(24,26): 100,\n",
    "    (25,26): 100} #defence cost for each edge"
   ]
  },
  {
   "cell_type": "markdown",
   "metadata": {},
   "source": [
    "## System Process Graph"
   ]
  },
  {
   "cell_type": "code",
   "execution_count": null,
   "metadata": {},
   "outputs": [],
   "source": [
    "#Define graph nodes\n",
    "nodes_sysprocess = set(range(1,49))\n",
    "s_sysprocess = 1 #artificial start node\n",
    "t_sysprocess = 36 #artificial end node\n",
    "sys_input = {2, 3, 4, 8, 9, 10, 11, 16, 17, 18, 19, 20, 21, 37, 41} #set of subsystem input nodes \n",
    "sys_output = {5, 6, 7, 12, 13, 14, 15, 22, 23, 24, 25, 26, 27, 38, 42} #set of subsystem output nodes\n",
    "capability_input = {28, 29, 30, 31, 39} #set of capability input nodes\n",
    "capability_output = {32, 33, 34, 35, 40} #set of capability output nodes\n",
    "process = {43, 44, 45, 46, 47, 48} #set of process nodes\n",
    "\n",
    "#Define graph edges\n",
    "edges_sysprocess={(2,5),(3,6),(4,7),(8,12),(9,13),(10,14),(11,15),(16,22),(17,23),(18,24),(19,25),(20,26),(21,27),\n",
    "    (37,38),(41,42),(28,32),(29,33),(30,34),(31,35),(39,40),(43,46),(44,47),(45,48),(5,8),(5,9),(5,10),(5,11),(5,17),(5,18),\n",
    "    (5,19),(5,20),(5,21),(6,8),(6,9),(6,10),(6,11),(6,16),(6,17),(6,18),(6,19),(7,31),(12,16),(12,17),(12,20),(13,18),\n",
    "    (13,19),(13,21),(14,19),(15,16),(15,17),(15,18),(15,19),(15,21),(15,37),(22,28),(23,28),(23,29),(24,29),(25,28),(25,29),\n",
    "    (25,30),(26,30),(27,30),(38,39),(42,31),(32,43),(33,44),(34,44),(35,43),(35,44),(35,45),(40,45),(1,2),(1,3),(1,4),\n",
    "    (1,41),(46,36),(47,36),(48,36)} #system and process edges\n",
    "targets_sysprocess = {(2,5),(3,6),(4,7),(8,12),(9,13),(10,14),(11,15),(16,22),(17,23),(18,24),(19,25),(20,26),(21,27),\n",
    "    (37,38),(41,42)} #set of goal edges\n",
    "art_edges_s_sysprocess = {(1,2),(1,3),(1,4),(1,41)} #set of edges from artificial start node\n",
    "art_edges_t_sysprocess = {(46,36),(47,36),(48,36)} #set of edges from artificial end node\n",
    "\n",
    "#Define graph attributes\n",
    "capacity_sysprocess ={(2,5): 1,(3,6): 1,(4,7): 1,(8,12): 1,(9,13): 1,(10,14): 1,(11,15): 1,(16,22): 1,(17,23): 1,(18,24): 1,\n",
    "    (19,25): 1,(20,26): 1,(21,27): 1,(37,38): 1,(41,42): 1,(28,32): 1,(29,33): 1,(30,34): 1,\n",
    "    (31,35): 1,(39,40): 1,(43,46): math.inf,(44,47): math.inf,(45,48): math.inf,(5,8): 1,(5,9): 1,(5,10): 1,\n",
    "    (5,11): 1,(5,17): 1,(5,18): 1,(5,19): 1,(5,20): 1,(5,21): 1,(6,8): 1,(6,9): 1,(6,10): 1,(6,11): 1,(6,16): 1,(6,17): 1,\n",
    "    (6,18): 1,(6,19): 1,(7,31): 1,(12,16): 1,(12,17): 1,(12,20): 1,(13,18): 1,(13,19): 1,(13,21): 1,(14,19): 1,(15,16): 1,\n",
    "    (15,17): 1,(15,18): 1,(15,19): 1,(15,21): 1,(15,37): 1,(22,28): 1,(23,28): 1,(23,29): 1,(24,29): 1,(25,28): 1,\n",
    "    (25,29): 1,(25,30): 1,(26,30): 1,(27,30): 1,(38,39): 1,(42,31): 1,(32,43): 1,(33,44): 1,(34,44): 1,\n",
    "    (35,43): 1,(35,44): 1,(35,45): 1,(40,45): 1,(1,2): 1,(1,3): 1,(1,4): 1,(1,41): 1,\n",
    "    (46,36): math.inf,(47,36): math.inf,(48,36): math.inf} #Upper bound on flow/capacity of each edge"
   ]
  },
  {
   "cell_type": "markdown",
   "metadata": {},
   "source": [
    "## Model parameters"
   ]
  },
  {
   "cell_type": "code",
   "execution_count": null,
   "metadata": {},
   "outputs": [],
   "source": [
    "att_budget = 9 #total attack budget\n",
    "def_budget = 3 #total defence budget"
   ]
  },
  {
   "cell_type": "code",
   "execution_count": null,
   "metadata": {},
   "outputs": [],
   "source": [
    "#Network - System Process relation\n",
    "graph_relation = {(2,5): 11,(3,6): 10,(4,7): 12,(8,12): 16,(9,13): 21,(10,14): 18,(11,15): 8,(16,22): 19,(17,23): 9,\n",
    "                  (18,24): 22,(19,25): 17,(20,26): 20,(21,27): 23,(37,38): 25,(41,42): 24}#links target nodes in the\n",
    "    #IT-network graph to target edges in the system process graph"
   ]
  },
  {
   "cell_type": "markdown",
   "metadata": {
    "heading_collapsed": true
   },
   "source": [
    "## Graphs Visualisation"
   ]
  },
  {
   "cell_type": "code",
   "execution_count": null,
   "metadata": {
    "hidden": true
   },
   "outputs": [],
   "source": [
    "#Define IT-network graph\n",
    "network = nx.DiGraph()\n",
    "network.add_nodes_from(list(nodes_network))\n",
    "network.add_edges_from(list(edges_network))\n",
    "pos_network = nx.spring_layout(network)#Messy positioning just for verification..."
   ]
  },
  {
   "cell_type": "code",
   "execution_count": null,
   "metadata": {
    "hidden": true
   },
   "outputs": [],
   "source": [
    "#Create a cost tuple for visualisation\n",
    "merged_cost = att_cost.copy()\n",
    "for key in att_cost:\n",
    "    merged_cost[key] = (att_cost[key],def_cost[key])"
   ]
  },
  {
   "cell_type": "code",
   "execution_count": null,
   "metadata": {
    "hidden": true,
    "scrolled": false
   },
   "outputs": [],
   "source": [
    "#Plot the graph\n",
    "fig, ax = plt.subplots(figsize=(12, 12))\n",
    "nx.draw_networkx_nodes(network, pos=pos_network, ax=ax, node_color='lightgray',\n",
    "                       edgecolors='black', node_size=2000)\n",
    "nx.draw_networkx_labels(network, pos=pos_network, ax=ax, labels=dict(zip(nodes_network, nodes_network)),\n",
    "                        font_size=20)\n",
    "nx.draw_networkx_edges(network, pos=pos_network, ax=ax, node_size=2000, arrowsize=25)\n",
    "nx.draw_networkx_edge_labels(network, pos=pos_network, ax=ax, edge_labels=merged_cost,\n",
    "                             font_size=16, rotate=False)\n",
    "plt.axis('off')\n",
    "plt.show()"
   ]
  },
  {
   "cell_type": "code",
   "execution_count": null,
   "metadata": {
    "hidden": true
   },
   "outputs": [],
   "source": [
    "#Determine initial positions for graph visualisation\n",
    "def layered(G):\n",
    "    V = []\n",
    "    data_to_V = {}\n",
    "    for x in G.nodes():\n",
    "        vertex = Vertex(x)\n",
    "        V.append(vertex)\n",
    "        data_to_V[x] = vertex\n",
    "    E = [Edge(data_to_V[xy[0]], data_to_V[xy[1]], data=xy) for xy in G.edges()]\n",
    "    g = Graph(V, E)\n",
    "\n",
    "    class defaultview(object):\n",
    "        w, h = 10, 10\n",
    "    for v in V: v.view = defaultview()\n",
    "\n",
    "    sug = SugiyamaLayout(g.C[0])\n",
    "    sug.init_all()#roots=[V[0]])\n",
    "    sug.draw()#calculate positions\n",
    "\n",
    "    pos = {v.data: (v.view.xy[0], v.view.xy[1]) for v in g.C[0].sV}#extracts the positions\n",
    "    \n",
    "    return pos\n",
    "\n",
    "#Define system process graph and fix position of specific nodes\n",
    "sysprocess = nx.DiGraph()\n",
    "sysprocess.add_nodes_from(list(nodes_sysprocess))\n",
    "sysprocess.add_edges_from(list(edges_sysprocess))\n",
    "pos_sysprocess = layered(sysprocess)\n",
    "pos_sysprocess[11]=(105,95)\n",
    "pos_sysprocess[15]=(105,125)\n",
    "pos_sysprocess[16]=(60,155)\n",
    "pos_sysprocess[22]=(60,185)\n",
    "pos_sysprocess[31]=(195,215)\n",
    "pos_sysprocess[35]=(195,245)\n",
    "pos_sysprocess[37]=(105,155)\n",
    "pos_sysprocess[38]=(105,185)\n",
    "pos_sysprocess[39]=(105,215)\n",
    "pos_sysprocess[40]=(105,245)\n",
    "pos_sysprocess[41]=(240,35)\n",
    "pos_sysprocess[42]=(240,65)\n",
    "pos_sysprocess[43]=(105,275)\n",
    "pos_sysprocess[44]=(-45,275)\n",
    "pos_sysprocess[45]=(30,275)\n",
    "pos_sysprocess[46]=(105,305)\n",
    "pos_sysprocess[47]=(-45,305)\n",
    "pos_sysprocess[48]=(30,305)\n",
    "pos_sysprocess[10]=(-15,95)\n",
    "pos_sysprocess[14]=(-15,125)\n",
    "pos_sysprocess[19]=(-45,155)\n",
    "pos_sysprocess[25]=(-45,185)\n",
    "pos_sysprocess[8]=(45,95)\n",
    "pos_sysprocess[12]=(45,125)\n",
    "pos_sysprocess[17]=(5,155)\n",
    "pos_sysprocess[23]=(5,185)\n",
    "pos_sysprocess[4]=(150,35)\n",
    "pos_sysprocess[7]=(150,65)"
   ]
  },
  {
   "cell_type": "code",
   "execution_count": null,
   "metadata": {
    "hidden": true,
    "scrolled": false
   },
   "outputs": [],
   "source": [
    "#Plot the graph\n",
    "fig, ax = plt.subplots(figsize=(12, 24))\n",
    "nx.draw_networkx_nodes(sysprocess, pos=pos_sysprocess, ax=ax, node_color='lightgray',\n",
    "                       edgecolors='black', node_size=2000)\n",
    "nx.draw_networkx_labels(sysprocess, pos=pos_sysprocess, ax=ax, labels=dict(zip(nodes_sysprocess, nodes_sysprocess)),\n",
    "                        font_size=20)\n",
    "nx.draw_networkx_edges(sysprocess, pos=pos_sysprocess, ax=ax, node_size=2000, arrowsize=25)\n",
    "plt.axis('off')\n",
    "plt.show()"
   ]
  },
  {
   "cell_type": "markdown",
   "metadata": {},
   "source": [
    "## Attacker sub-problem model"
   ]
  },
  {
   "cell_type": "code",
   "execution_count": null,
   "metadata": {},
   "outputs": [],
   "source": [
    "history_attack_plans = {}"
   ]
  },
  {
   "cell_type": "code",
   "execution_count": null,
   "metadata": {},
   "outputs": [],
   "source": [
    "def attacker(nodes_network,edges_network,s_network,t_network,targets_network,att_budget,att_cost,nodes_sysprocess,\n",
    "             edges_sysprocess,s_sysprocess,t_sysprocess,sys_input,sys_output,cap_input,cap_output,process,\n",
    "             art_edges_t_sysprocess,capacity,targets_sysprocess,graph_relation,history_attack_plans,patched_edges = {}):  \n",
    "    \n",
    "    #Model object\n",
    "    model = pe.ConcreteModel() #define name and type of model\n",
    "    \n",
    "    #Define model sets from earlier defined graphs\n",
    "    model.nodes_network = pe.Set(initialize=nodes_network)\n",
    "    model.edges_network = pe.Set(within=model.nodes_network*model.nodes_network, initialize=edges_network)\n",
    "    model.targets_network = pe.Set(initialize=targets_network)\n",
    "    model.nodes_sysprocess = pe.Set(initialize=nodes_sysprocess)\n",
    "    model.edges_sysprocess = pe.Set(within=model.nodes_sysprocess*model.nodes_sysprocess, initialize=edges_sysprocess)\n",
    "    model.sys_input = pe.Set(initialize=sys_input)\n",
    "    model.sys_output = pe.Set(initialize=sys_output)\n",
    "    model.cap_input = pe.Set(initialize=capability_input)\n",
    "    model.cap_output = pe.Set(initialize=capability_output)\n",
    "    model.process = pe.Set(initialize=process)\n",
    "    model.art_t_sysprocess = pe.Set(initialize=art_edges_t_sysprocess)\n",
    "    model.targets_sysprocess = pe.Set(initialize=targets_sysprocess)\n",
    "    model.patched_edges = pe.Set(initialize=patched_edges)\n",
    "    \n",
    "    #Pre-calculated sets of incoming and outgoing network edges to speed up processing\n",
    "    Vm_network = defaultdict(set)\n",
    "    Vp_network = defaultdict(set)\n",
    "    for (i, j) in edges_network:\n",
    "        Vm_network[i].add(j)\n",
    "        Vp_network[j].add(i)\n",
    "        \n",
    "    #Pre-calculated sets of incoming and outgoing sysprocess edges to speed up processing\n",
    "    Vm_sysprocess = defaultdict(set)\n",
    "    Vp_sysprocess = defaultdict(set)\n",
    "    for (i, j) in edges_sysprocess:\n",
    "        Vm_sysprocess[i].add(j)\n",
    "        Vp_sysprocess[j].add(i)\n",
    "    \n",
    "    #Define model parameters from earlier defined graphs and pre-calculated sets\n",
    "    model.Vm_network = pe.Param(model.nodes_network, initialize=Vm_network, default=set(), within=pe.Any)\n",
    "    model.Vp_network = pe.Param(model.nodes_network, initialize=Vp_network, default=set(), within=pe.Any)\n",
    "    model.Vm_sysprocess = pe.Param(model.nodes_sysprocess, initialize=Vm_sysprocess, default=set(), within=pe.Any)\n",
    "    model.Vp_sysprocess = pe.Param(model.nodes_sysprocess, initialize=Vp_sysprocess, default=set(), within=pe.Any)\n",
    "    model.capacity = pe.Param(model.edges_sysprocess, initialize=capacity_sysprocess)\n",
    "    model.att_cost = pe.Param(model.edges_network, initialize=att_cost)\n",
    "    model.graph_relation = pe.Param(model.targets_sysprocess, initialize=graph_relation)\n",
    "    model.s_network = s_network\n",
    "    model.t_network = t_network\n",
    "    model.s_sysprocess = s_sysprocess\n",
    "    model.t_sysprocess = t_sysprocess\n",
    "    model.att_budget = att_budget\n",
    "    model.bigm2 = len(model.targets_network)\n",
    "    model.history_attack_plans = history_attack_plans\n",
    "    \n",
    "    #Define model variables\n",
    "    model.x_network = pe.Var(model.edges_network, within=pe.NonNegativeIntegers) #attack indicator on each network edge\n",
    "    model.y_network = pe.Var(model.edges_network, initialize=0, within=pe.Binary) #cumulative attack indicator on each\n",
    "        #edge (sum of x over entire attack plan)\n",
    "    model.x_sysprocess = pe.Var(model.edges_sysprocess, initialize=0, within=pe.Binary) #availability indicator on each\n",
    "        #system process edge (linked to x_network and y_network)\n",
    "    model.y_sysprocess = pe.Var(model.edges_sysprocess, within=pe.NonNegativeIntegers) #directional flow of system\n",
    "        #performance on each system process edge\n",
    "    model.b = pe.Var(model.targets_network, within=pe.Binary) #breach indicator on each network edge\n",
    "    \n",
    "    #Objective function z_AD (eq. 5.17)\n",
    "    def best_attack(model):\n",
    "        return sum(model.y_sysprocess[i, j] for (i, j) in model.art_t_sysprocess) - sum(2 * model.y_sysprocess[i, j] * \\\n",
    "            model.x_sysprocess[i, j] for i, j in model.edges_sysprocess)\n",
    "\n",
    "    model.obj_best_attack = pe.Objective(sense=pe.minimize, rule=best_attack)#add objective to model\n",
    "    \n",
    "    #Constraints\n",
    "    ##Flow balance network (eq. 5.9)\n",
    "    def flow_balance_network(model, n):\n",
    "        flow_in = sum(model.x_network[i, n] for i in model.Vp_network[n])\n",
    "        flow_out = sum(model.x_network[n, j] for j in model.Vm_network[n])\n",
    "        if n == model.s_network:\n",
    "            constraint = (flow_out - flow_in == flow_out)\n",
    "        elif n == model.t_network:\n",
    "            constraint = (flow_out - flow_in == -flow_in)\n",
    "        else:\n",
    "            constraint = (flow_out - flow_in == 0)\n",
    "        return constraint\n",
    "\n",
    "    model.con_flow_balance_network = pe.Constraint(model.nodes_network, rule=flow_balance_network)#add constraint to model\n",
    "    \n",
    "    ##Breach target (eq. 5.10)\n",
    "    def breach(model, g):\n",
    "        return model.b[g] - sum(model.x_network[i, j] for (i, j) in model.edges_network if j in model.targets_network \\\n",
    "            and j == g) == 0\n",
    "\n",
    "    model.con_breach = pe.Constraint(model.targets_network, rule=breach)#add constraint to model\n",
    "    \n",
    "    ##Attacker resources (eq. 5.11)\n",
    "    def attack_resources(model):\n",
    "        spending = sum(model.att_cost[i, j] * model.y_network[i, j] for (i, j) in model.edges_network)\n",
    "        return spending <= model.att_budget\n",
    "\n",
    "    model.con_attack_resources = pe.Constraint(rule=attack_resources)#Add constraint to model\n",
    "    \n",
    "    ##Attack indicator (eq. 5.12)\n",
    "    def attack_indicator(model, i, j):\n",
    "        return model.x_network[i, j] <= model.bigm2*model.y_network[i, j]\n",
    "\n",
    "    model.con_attack_indicator = pe.Constraint(model.edges_network, rule=attack_indicator)#add constraint to model\n",
    "    \n",
    "    ##Conversion from network to sysprocess (eq. 5.14)\n",
    "    def conversion(model, i, j):\n",
    "        if (i, j) in model.targets_sysprocess:\n",
    "            constraint = (model.x_sysprocess[i, j] == model.b[model.graph_relation[i, j]])\n",
    "        else:\n",
    "            constraint = (model.x_sysprocess[i, j] == 0)\n",
    "        return constraint    \n",
    "            \n",
    "    model.con_conversion = pe.Constraint(model.edges_sysprocess,rule=conversion)#Add constraint to model\n",
    "\n",
    "    ##Correction to suppress tendency to switch on unconstrained y's on the artificial edges. Cosmetic solver issue,\n",
    "    #not part of the actual model.\n",
    "    def flow_balance_network_cor(model, i, j):\n",
    "        return model.y_network[i, j] <= model.x_network[i, j]\n",
    "\n",
    "    model.con_flow_balance_network_cor = pe.Constraint(model.edges_network, rule=flow_balance_network_cor)#add constraint \n",
    "    #to model\n",
    "    \n",
    "    ##Flow balance system/processes (eq. 5.15)\n",
    "    def flow_balance_sysprocess(model, n):\n",
    "        flow_in = sum(model.y_sysprocess[i, n] for i in model.Vp_sysprocess[n])#Sum of all incoming arcs\n",
    "        flow_out = sum(model.y_sysprocess[n, j] for j in model.Vm_sysprocess[n])#Sum of all outgoing arcs\n",
    "        prod_in = prod(model.y_sysprocess[i, n] for i in model.Vp_sysprocess[n])#Product of all incoming arcs\n",
    "        att_cor = 1- sum(model.x_sysprocess[n, j] for j in model.Vm_sysprocess[n])#Correction factor for attacked arcs\n",
    "        if n == model.s_sysprocess:\n",
    "            constraint = (flow_out - flow_in == len(model.Vm_sysprocess[n]))\n",
    "        elif n in model.sys_input:\n",
    "            constraint = (flow_out - flow_in == -(prod_in * att_cor * (flow_in-1)) - ((1- prod_in * att_cor) * flow_in))\n",
    "        elif n in model.sys_output:\n",
    "            constraint = (flow_out - flow_in == flow_in * (len(model.Vm_sysprocess[n])-1))\n",
    "        elif n in model.process:\n",
    "            constraint = (flow_out - flow_in == prod_in - flow_in)\n",
    "        elif n in model.cap_input:\n",
    "            constraint = (flow_out - flow_in == -(prod_in * (flow_in-1)) - ((1- prod_in) * flow_in))\n",
    "        elif n in model.cap_output:\n",
    "            constraint = (flow_out - flow_in == flow_in * (len(model.Vm_sysprocess[n])-1))\n",
    "        elif n == model.t_sysprocess:\n",
    "            constraint = (flow_out - flow_in == -flow_in)\n",
    "        return constraint\n",
    "\n",
    "    model.con_flow_balance_sysprocess = pe.Constraint(model.nodes_sysprocess, rule=flow_balance_sysprocess)#Add constraint to model\n",
    "\n",
    "    ##Arc capacity (eq. 5.7)\n",
    "    def arc_capacity(model, i, j):\n",
    "        return (model.y_sysprocess[i, j] <= model.capacity[i, j])\n",
    "    \n",
    "    model.con_arc_capacity = pe.Constraint(model.edges_sysprocess, rule=arc_capacity)#Add constraint to model\n",
    "    \n",
    "    ##Patched (eq. 5.19)\n",
    "    def patched(model, i, j):\n",
    "        if (i, j) in model.patched_edges:\n",
    "            constraint = (model.y_network[i, j] == 0)         \n",
    "        else:\n",
    "            constraint = pe.Constraint.Skip\n",
    "        return constraint\n",
    "    \n",
    "    model.con_patched = pe.Constraint(model.edges_network, rule=patched)#Add constraint to model\n",
    "    \n",
    "    ##Avoid duplicate attacks (eq. 5.23)\n",
    "    def duplicates(model):\n",
    "        if model.history_attack_plans:\n",
    "            for k in model.history_attack_plans:\n",
    "                constraint = (sum((((1 - model.history_attack_plans[k][i, j]) * model.y_network[i, j]) for (i, j) in \\\n",
    "                model.edges_network)) + sum((model.history_attack_plans[k][i, j] * (1 -model.y_network[i, j])) for (i, j) \\\n",
    "                in model.edges_network) >= 1)    \n",
    "        else:\n",
    "            constraint = pe.Constraint.Skip\n",
    "        return constraint\n",
    "    \n",
    "    model.con_duplicates = pe.Constraint(rule=duplicates)#Add constraint to model\n",
    "         \n",
    "    #Solver\n",
    "    solver = po.SolverFactory('scip', executable=\"[DRIVE AND PATH TO EXECUTABLE]/scipampl.exe\")\n",
    "    result = solver.solve(model, tee=False)\n",
    "    \n",
    "    return model.obj_best_attack(),model.x_sysprocess,model.y_sysprocess,model.x_network,model.y_network,model.b"
   ]
  },
  {
   "cell_type": "code",
   "execution_count": null,
   "metadata": {
    "scrolled": false
   },
   "outputs": [],
   "source": [
    "result,x_sysprocess,y_sysprocess,x_network,y_network,b = attacker(nodes_network,edges_network,s_network,t_network,\n",
    "                        targets_network,att_budget,att_cost,nodes_sysprocess,edges_sysprocess,s_sysprocess,t_sysprocess,\n",
    "                        sys_input,sys_output,capability_input,capability_output,process,art_edges_t_sysprocess,\n",
    "                        capacity_sysprocess,targets_sysprocess,graph_relation,history_attack_plans)"
   ]
  },
  {
   "cell_type": "code",
   "execution_count": null,
   "metadata": {
    "scrolled": false
   },
   "outputs": [],
   "source": [
    "print('z_ad value')\n",
    "print('Performance: ',result)\n",
    "print('x_sysprocess')\n",
    "for i in x_sysprocess:\n",
    "    print('Edge: ',i,' Operabel: ',x_sysprocess[i].value)\n",
    "print('y_sysprocess')\n",
    "for i in y_sysprocess:\n",
    "    print('Edge: ',i,' Operabel: ',y_sysprocess[i].value)\n",
    "print('x_network values')\n",
    "for i in x_network:\n",
    "    print('Edge: ',i,' Times attacked: ',x_network[i].value)\n",
    "print('y_network values')\n",
    "for i in y_network:\n",
    "    print('Edge: ',i,' Attacked: ',y_network[i].value)\n",
    "print('b values')\n",
    "for i in b:\n",
    "    print('Target node: ',i,' Breached: ',b[i].value)"
   ]
  },
  {
   "cell_type": "markdown",
   "metadata": {
    "heading_collapsed": true
   },
   "source": [
    "## Visualize Solution with NetworkX"
   ]
  },
  {
   "cell_type": "code",
   "execution_count": null,
   "metadata": {
    "hidden": true
   },
   "outputs": [],
   "source": [
    "#Prepare network defence visualisation\n",
    "patched_edges = {}\n",
    "patched = list(patched_edges)\n",
    "\n",
    "#Prepare network attack visualisation\n",
    "y_network_edge_list_0 = [(i,j) for i,j in y_network if y_network[i,j].value == 0]\n",
    "y_network_node_list_0 = list(set(itertools.chain.from_iterable(y_network_edge_list_0)))\n",
    "y_network_edge_list_1 = [(i,j) for i,j in y_network if y_network[i,j].value == 1]\n",
    "y_network_node_list_1 = list(set(itertools.chain.from_iterable(y_network_edge_list_1)))\n",
    "\n",
    "#Prepare sysprocess visualisation\n",
    "y_sysprocess_edge_list_0 = [(i,j) for i,j in y_sysprocess if y_sysprocess[i,j].value == 0]\n",
    "y_sysprocess_node_list_0 = list(set(itertools.chain.from_iterable(y_sysprocess_edge_list_0)))\n",
    "y_sysprocess_edge_list_1 = [(i,j) for i,j in y_sysprocess if y_sysprocess[i,j].value >= 1]\n",
    "y_sysprocess_node_list_1 = list(set(itertools.chain.from_iterable(y_sysprocess_edge_list_1)))"
   ]
  },
  {
   "cell_type": "code",
   "execution_count": null,
   "metadata": {
    "hidden": true
   },
   "outputs": [],
   "source": [
    "node_colors_network = ['lightblue' if i in y_network_node_list_1 \n",
    "                       else 'lightgray' for i in network.nodes()]\n",
    "edge_colors_network = ['blue' if (i, j) in y_network_edge_list_1\n",
    "                       else 'green' if (i, j) in patched\n",
    "                       else 'black' for (i, j) in network.edges()]\n",
    "edge_widths_network = [2 if (i, j) in y_network_edge_list_1\n",
    "                       else 2 if (i, j) in patched\n",
    "                       else 1 for (i, j) in network.edges()]"
   ]
  },
  {
   "cell_type": "code",
   "execution_count": null,
   "metadata": {
    "hidden": true,
    "scrolled": false
   },
   "outputs": [],
   "source": [
    "fig, ax = plt.subplots(figsize=(12, 12))\n",
    "nx.draw_networkx_nodes(network, pos=pos_network, ax=ax, node_color=node_colors_network,\n",
    "                       edgecolors='black', node_size=2000)\n",
    "nx.draw_networkx_labels(network, pos=pos_network, ax=ax, labels=dict(zip(nodes_network, nodes_network)),\n",
    "                        font_size=20)\n",
    "nx.draw_networkx_edges(network, pos=pos_network, ax=ax, node_size=2000, arrowsize=25, edge_color=edge_colors_network, width=edge_widths_network)\n",
    "plt.axis('off')\n",
    "plt.show()"
   ]
  },
  {
   "cell_type": "code",
   "execution_count": null,
   "metadata": {
    "hidden": true
   },
   "outputs": [],
   "source": [
    "node_colors = ['lightblue' if i in y_sysprocess_node_list_1 else 'lightgray'\n",
    "               for i in sysprocess.nodes()]\n",
    "edge_colors = ['blue' if (i, j) in y_sysprocess_edge_list_1 else 'black'\n",
    "               for (i, j) in sysprocess.edges()]\n",
    "edge_widths = [2 if (i, j) in y_sysprocess_edge_list_1 else 1\n",
    "               for (i, j) in sysprocess.edges()]"
   ]
  },
  {
   "cell_type": "code",
   "execution_count": null,
   "metadata": {
    "hidden": true,
    "scrolled": false
   },
   "outputs": [],
   "source": [
    "fig, ax = plt.subplots(figsize=(12, 24))\n",
    "nx.draw_networkx_nodes(sysprocess, pos=pos_sysprocess, ax=ax, node_color=node_colors,\n",
    "                       edgecolors='black', node_size=2000)\n",
    "nx.draw_networkx_labels(sysprocess, pos=pos_sysprocess, ax=ax, labels=dict(zip(nodes_sysprocess, nodes_sysprocess)),\n",
    "                        font_size=20)\n",
    "nx.draw_networkx_edges(sysprocess, pos=pos_sysprocess, ax=ax, node_size=2000, arrowsize=25, edge_color=edge_colors, width=edge_widths)\n",
    "plt.axis('off')\n",
    "plt.show()"
   ]
  },
  {
   "cell_type": "markdown",
   "metadata": {},
   "source": [
    "## Master problem model"
   ]
  },
  {
   "cell_type": "code",
   "execution_count": null,
   "metadata": {},
   "outputs": [],
   "source": [
    "history_attack_edges = {(16, 26),(6, 15),(14, 16),(5, 10),(17, 18),(1, 3),(15, 17),(6, 14),(4, 8),(3, 15),(1, 2),(1, 5),\n",
    "                        (17, 26),(13, 16),(8, 26),(10, 26),(6, 13),(18, 21),(21, 23),(23, 26),(1, 4),(2, 6)}"
   ]
  },
  {
   "cell_type": "code",
   "execution_count": null,
   "metadata": {},
   "outputs": [],
   "source": [
    "def defender(nodes_network,edges_network,s_network,t_network,targets_network,att_cost,nodes_sysprocess,\n",
    "             edges_sysprocess,s_sysprocess,t_sysprocess,sys_input,sys_output,cap_input,cap_output,process,\n",
    "             art_edges_t_sysprocess,art_edges_s_network,capacity,targets_sysprocess,graph_relation,\n",
    "             history_attack_edges,def_cost,def_budget):  \n",
    "    #Model object\n",
    "    model = pe.ConcreteModel()\n",
    "    \n",
    "    #Data preparation\n",
    "    history_attack_nodes = set(itertools.chain.from_iterable(history_attack_edges))\n",
    "    \n",
    "    #Sets\n",
    "    model.nodes_network = pe.Set(initialize=nodes_network)\n",
    "    model.edges_network = pe.Set(within=model.nodes_network*model.nodes_network, initialize=edges_network)\n",
    "    model.targets_network = pe.Set(initialize=targets_network)\n",
    "    model.nodes_sysprocess = pe.Set(initialize=nodes_sysprocess)\n",
    "    model.edges_sysprocess = pe.Set(within=model.nodes_sysprocess*model.nodes_sysprocess, initialize=edges_sysprocess)\n",
    "    model.sys_input = pe.Set(initialize=sys_input)\n",
    "    model.sys_output = pe.Set(initialize=sys_output)\n",
    "    model.cap_input = pe.Set(initialize=capability_input)\n",
    "    model.cap_output = pe.Set(initialize=capability_output)\n",
    "    model.process = pe.Set(initialize=process)\n",
    "    model.art_s_network = pe.Set(initialize=art_edges_s_network)\n",
    "    model.art_t_sysprocess = pe.Set(initialize=art_edges_t_sysprocess)\n",
    "    model.targets_sysprocess = pe.Set(initialize=targets_sysprocess)\n",
    "    model.history_attack_nodes = pe.Set(initialize=history_attack_nodes)\n",
    "    model.history_attack_edges = pe.Set(within=model.history_attack_nodes*model.history_attack_nodes, \\\n",
    "                                        initialize=history_attack_edges)\n",
    "    \n",
    "    #Pre-calculated sets of incoming and outgoing network edges to speed up processing\n",
    "    Vm_network = defaultdict(set)\n",
    "    Vp_network = defaultdict(set)\n",
    "    for (i, j) in edges_network:\n",
    "        Vm_network[i].add(j)\n",
    "        Vp_network[j].add(i)\n",
    "        \n",
    "    #Pre-calculated sets of incoming and outgoing sysprocess edges to speed up processing\n",
    "    Vm_sysprocess = defaultdict(set)\n",
    "    Vp_sysprocess = defaultdict(set)\n",
    "    for (i, j) in edges_sysprocess:\n",
    "        Vm_sysprocess[i].add(j)\n",
    "        Vp_sysprocess[j].add(i)\n",
    "        \n",
    "    #Pre-calculated sets of incoming and outgoing attack selection edges to speed up processing\n",
    "    Vm_cut = defaultdict(set)\n",
    "    Vp_cut = defaultdict(set)\n",
    "    for (i, j) in history_attack_edges:\n",
    "        Vm_cut[i].add(j)\n",
    "        Vp_cut[j].add(i)\n",
    "    \n",
    "    #Parameters\n",
    "    model.Vm_network = pe.Param(model.nodes_network, initialize=Vm_network, default=set(), within=pe.Any)\n",
    "    model.Vp_network = pe.Param(model.nodes_network, initialize=Vp_network, default=set(), within=pe.Any)\n",
    "    model.Vm_sysprocess = pe.Param(model.nodes_sysprocess, initialize=Vm_sysprocess, default=set(), within=pe.Any)\n",
    "    model.Vp_sysprocess = pe.Param(model.nodes_sysprocess, initialize=Vp_sysprocess, default=set(), within=pe.Any)\n",
    "    model.Vm_cut = pe.Param(model.nodes_network, initialize=Vm_cut, default=set(), within=pe.Any)\n",
    "    model.Vp_cut = pe.Param(model.nodes_network, initialize=Vp_cut, default=set(), within=pe.Any)\n",
    "    model.capacity = pe.Param(model.edges_sysprocess, initialize=capacity_sysprocess)\n",
    "    model.att_cost = pe.Param(model.edges_network, initialize=att_cost)\n",
    "    model.def_cost = pe.Param(model.edges_network, initialize=def_cost)\n",
    "    model.graph_relation = pe.Param(model.targets_sysprocess, initialize=graph_relation)\n",
    "    model.s_network = s_network\n",
    "    model.t_network = t_network\n",
    "    model.s_sysprocess = s_sysprocess\n",
    "    model.t_sysprocess = t_sysprocess\n",
    "    model.def_budget = def_budget\n",
    "    \n",
    "    #Variables\n",
    "    model.x_network = pe.Var(model.edges_network, within=pe.NonNegativeIntegers)\n",
    "    model.x_sysprocess = pe.Var(model.edges_sysprocess, initialize=0, within=pe.Binary)\n",
    "    model.y_sysprocess = pe.Var(model.edges_sysprocess, within=pe.NonNegativeIntegers)\n",
    "    model.b = pe.Var(model.nodes_network, initialize=0, within=pe.Binary)\n",
    "    model.w = pe.Var(model.edges_network, initialize=0, within=pe.Binary)\n",
    "    \n",
    "    #Objective function z_DAD (eq. 5.17)\n",
    "    def best_defense(model):\n",
    "        return sum(model.y_sysprocess[i, j] for (i, j) in model.art_t_sysprocess) - sum(2 * model.y_sysprocess[i, j] * \\\n",
    "                    model.x_sysprocess[i, j] for i, j in model.edges_sysprocess)\n",
    "\n",
    "    model.obj_best_defense = pe.Objective(sense=pe.maximize, rule=best_defense)#Add objective to model\n",
    "    \n",
    "    #Constraints \n",
    "    ##Breach target (5.21, changed from 5.10)\n",
    "    def breach(model, n):\n",
    "        return ((1 - prod(1- model.x_network[i, n] for i in model.Vp_cut[n])) == model.b[n])\n",
    "\n",
    "    model.con_breach = pe.Constraint(model.nodes_network, rule=breach)#Add constraint to model\n",
    "    \n",
    "    ##Attack indicator (5.22, changed from 5.12)\n",
    "    def attack_indicator(model, n, j):\n",
    "        prod_in = prod(model.w[i, n] for i in model.Vp_cut[n])\n",
    "        if (n, j) in model.art_s_network:\n",
    "            constraint = (model.x_network[n, j] == 1)\n",
    "        else:\n",
    "            constraint = (model.x_network[n, j] == model.b[n] * (1 - model.w[n, j]))\n",
    "        return constraint\n",
    "        \n",
    "    model.con_attack_indicator = pe.Constraint(model.history_attack_edges, rule=attack_indicator)\n",
    "    \n",
    "    ##Conversion from network to sysprocess (eq. 5.14) \n",
    "    def conversion(model, i, j):\n",
    "        if (i, j) in model.targets_sysprocess:\n",
    "            constraint = (model.x_sysprocess[i, j] == model.b[model.graph_relation[i, j]])\n",
    "        else:\n",
    "            constraint = (model.x_sysprocess[i, j] == 0)\n",
    "        return constraint    \n",
    "            \n",
    "    model.con_conversion = pe.Constraint(model.edges_sysprocess,rule=conversion)#Add constraint to model\n",
    "       \n",
    "    ##Flow balance  (eq. 5.15)\n",
    "    def flow_balance_sysprocess(model, n):\n",
    "        flow_in = sum(model.y_sysprocess[i, n] for i in model.Vp_sysprocess[n])#Sum of all incoming arcs\n",
    "        flow_out = sum(model.y_sysprocess[n, j] for j in model.Vm_sysprocess[n])#Sum of all outgoing arcs\n",
    "        prod_in = prod(model.y_sysprocess[i, n] for i in model.Vp_sysprocess[n])#Product of all incoming arcs\n",
    "        att_cor = 1- sum(model.x_sysprocess[n, j] for j in model.Vm_sysprocess[n])#Correction factor for attacked arcs\n",
    "        if n == model.s_sysprocess:\n",
    "            constraint = (flow_out - flow_in == len(model.Vm_sysprocess[n]))\n",
    "        elif n in model.sys_input:\n",
    "            constraint = (flow_out - flow_in == -(prod_in * att_cor * (flow_in-1)) - ((1- prod_in * att_cor) * flow_in))\n",
    "        elif n in model.sys_output:\n",
    "            constraint = (flow_out - flow_in == flow_in * (len(model.Vm_sysprocess[n])-1))\n",
    "        elif n in model.process:\n",
    "            constraint = (flow_out - flow_in == prod_in - flow_in)\n",
    "        elif n in model.cap_input:\n",
    "            constraint = (flow_out - flow_in == -(prod_in * (flow_in-1)) - ((1- prod_in) * flow_in))\n",
    "        elif n in model.cap_output:\n",
    "            constraint = (flow_out - flow_in == flow_in * (len(model.Vm_sysprocess[n])-1))\n",
    "        elif n == model.t_sysprocess:\n",
    "            constraint = (flow_out - flow_in == -flow_in)\n",
    "        return constraint\n",
    "\n",
    "    model.con_flow_balance_sysprocess = pe.Constraint(model.nodes_sysprocess, rule=flow_balance_sysprocess)#Add constraint to model\n",
    "\n",
    "    ##Arc capacity (eq. 5.7)\n",
    "    def arc_capacity(model, i, j):\n",
    "        return (model.y_sysprocess[i, j] <= model.capacity[i, j])\n",
    "    \n",
    "    model.con_arc_capacity = pe.Constraint(model.edges_sysprocess, rule=arc_capacity)#Add constraint to model\n",
    "    \n",
    "    ##Defence resources (eq. 5.18)\n",
    "    def defence_resources(model):\n",
    "        spending_def = sum(model.def_cost[i, j] * model.w[i, j] for (i, j) in model.edges_network)\n",
    "        return (spending_def <= model.def_budget)\n",
    "    \n",
    "    model.con_defence_resources = pe.Constraint(rule=defence_resources)#Add constraint to model\n",
    "    \n",
    "    ##Subgraph selection (eq. 5.20)\n",
    "    def selection(model, i, j):\n",
    "        if (i, j) not in model.history_attack_edges:\n",
    "            constraint = (model.x_network[i, j] + model.w[i, j] == 0)\n",
    "        else:\n",
    "            constraint = pe.Constraint.Skip\n",
    "        return constraint\n",
    "    \n",
    "    model.con_selection = pe.Constraint(model.edges_network, rule=selection)\n",
    "      \n",
    "    #Solver\n",
    "    solver = po.SolverFactory('scip', executable=\"[DRIVE AND PATH TO EXECUTABLE]/scipampl.exe\")\n",
    "    result = solver.solve(model, tee=False)\n",
    "    \n",
    "    return model.obj_best_defense(),model.x_sysprocess,model.y_sysprocess,model.x_network,model.b,model.w"
   ]
  },
  {
   "cell_type": "code",
   "execution_count": null,
   "metadata": {
    "scrolled": false
   },
   "outputs": [],
   "source": [
    "result,x_sysprocess,y_sysprocess,x_network,b,w = defender(nodes_network,edges_network,s_network,t_network,targets_network,att_cost,nodes_sysprocess,\n",
    "                        edges_sysprocess,s_sysprocess,t_sysprocess,sys_input,sys_output,capability_input,capability_output,\n",
    "                        process,art_edges_t_sysprocess,art_edges_s_network,capacity_sysprocess,targets_sysprocess,graph_relation,\n",
    "                        history_attack_edges,def_cost,def_budget)"
   ]
  },
  {
   "cell_type": "code",
   "execution_count": null,
   "metadata": {
    "scrolled": false
   },
   "outputs": [],
   "source": [
    "print('z_dad value')\n",
    "print('Performance: ',result)\n",
    "print('x_network values')\n",
    "for i in x_network:\n",
    "    print('Edge: ',i,' Times attacked: ',x_network[i].value)\n",
    "print('b values')\n",
    "for i in b:\n",
    "    print('Target node: ',i,' Breached: ',b[i].value)\n",
    "print('w values')\n",
    "for i in w:\n",
    "    print('Node: ',i,' Patched: ',w[i].value)\n",
    "print('x_sysprocess')\n",
    "for i in x_sysprocess:\n",
    "    print('Edge: ',i,' Operabel: ',x_sysprocess[i].value)\n",
    "print('y_sysprocess')\n",
    "for i in y_sysprocess:\n",
    "    print('Edge: ',i,' Operabel: ',y_sysprocess[i].value)"
   ]
  },
  {
   "cell_type": "markdown",
   "metadata": {
    "heading_collapsed": true
   },
   "source": [
    "## Visualize Solution with NetworkX"
   ]
  },
  {
   "cell_type": "code",
   "execution_count": null,
   "metadata": {
    "hidden": true
   },
   "outputs": [],
   "source": [
    "#Prepare graph visualisation\n",
    "greyed_out = [(i,j) for (i,j) in x_network if (i,j) not in history_attack_edges]\n",
    "\n",
    "#Prepare network attack visualisation\n",
    "x_network_edge_list_0 = [(i,j) for i,j in x_network if x_network[i,j].value == 0]\n",
    "x_network_node_list_0 = list(set(itertools.chain.from_iterable(x_network_edge_list_0)))\n",
    "x_network_edge_list_1 = [(i,j) for i,j in x_network if x_network[i,j].value == 1]\n",
    "x_network_node_list_1 = list(set(itertools.chain.from_iterable(x_network_edge_list_1)))\n",
    "\n",
    "#Prepare network defence visualisation\n",
    "w_1 = [(i,j) for i,j in w if w[i,j].value == 1]\n",
    "# nope_1 = [(i,j) for i,j in w if nope[i,j].value == 1]\n",
    "\n",
    "#Prepare sysprocess visualisation\n",
    "y_sysprocess_edge_list_0 = [(i,j) for i,j in y_sysprocess if y_sysprocess[i,j].value == 0]\n",
    "y_sysprocess_node_list_0 = list(set(itertools.chain.from_iterable(y_sysprocess_edge_list_0)))\n",
    "y_sysprocess_edge_list_1 = [(i,j) for i,j in y_sysprocess if y_sysprocess[i,j].value >= 1]\n",
    "y_sysprocess_node_list_1 = list(set(itertools.chain.from_iterable(y_sysprocess_edge_list_1)))"
   ]
  },
  {
   "cell_type": "code",
   "execution_count": null,
   "metadata": {
    "hidden": true
   },
   "outputs": [],
   "source": [
    "node_colors_network = ['lightblue' if i in x_network_node_list_1 \n",
    "                       else 'lightgray' for i in network.nodes()]\n",
    "edge_colors_network = ['blue' if (i, j) in x_network_edge_list_1\n",
    "                       else 'red' if (i, j) in w_1\n",
    "                       else 'lightgray' if (i, j) in greyed_out \n",
    "                       else 'black' for (i, j) in network.edges()]\n",
    "edge_widths_network = [2 if (i, j) in x_network_edge_list_1\n",
    "                       else 2 if (i, j) in w_1\n",
    "                       else 1 for (i, j) in network.edges()]"
   ]
  },
  {
   "cell_type": "code",
   "execution_count": null,
   "metadata": {
    "hidden": true,
    "scrolled": false
   },
   "outputs": [],
   "source": [
    "fig, ax = plt.subplots(figsize=(12, 12))\n",
    "nx.draw_networkx_nodes(network, pos=pos_network, ax=ax, node_color=node_colors_network,\n",
    "                       edgecolors='black', node_size=2000)\n",
    "nx.draw_networkx_labels(network, pos=pos_network, ax=ax, labels=dict(zip(nodes_network, nodes_network)),\n",
    "                        font_size=20)\n",
    "nx.draw_networkx_edges(network, pos=pos_network, ax=ax, node_size=2000, arrowsize=25, edge_color=edge_colors_network, width=edge_widths_network)\n",
    "plt.axis('off')\n",
    "plt.show()"
   ]
  },
  {
   "cell_type": "code",
   "execution_count": null,
   "metadata": {
    "hidden": true
   },
   "outputs": [],
   "source": [
    "node_colors = ['lightblue' if i in y_sysprocess_node_list_1 else 'lightgray'\n",
    "               for i in sysprocess.nodes()]\n",
    "edge_colors = ['blue' if (i, j) in y_sysprocess_edge_list_1 else 'black'\n",
    "               for (i, j) in sysprocess.edges()]\n",
    "edge_widths = [2 if (i, j) in y_sysprocess_edge_list_1 else 1\n",
    "               for (i, j) in sysprocess.edges()]"
   ]
  },
  {
   "cell_type": "code",
   "execution_count": null,
   "metadata": {
    "hidden": true,
    "scrolled": false
   },
   "outputs": [],
   "source": [
    "fig, ax = plt.subplots(figsize=(12, 24))\n",
    "nx.draw_networkx_nodes(sysprocess, pos=pos_sysprocess, ax=ax, node_color=node_colors,\n",
    "                       edgecolors='black', node_size=2000)\n",
    "nx.draw_networkx_labels(sysprocess, pos=pos_sysprocess, ax=ax, labels=dict(zip(nodes_sysprocess, nodes_sysprocess)),\n",
    "                        font_size=20)\n",
    "nx.draw_networkx_edges(sysprocess, pos=pos_sysprocess, ax=ax, node_size=2000, arrowsize=25, edge_color=edge_colors, width=edge_widths)\n",
    "plt.axis('off')\n",
    "plt.show()"
   ]
  },
  {
   "cell_type": "markdown",
   "metadata": {},
   "source": [
    "## Solving algorithm"
   ]
  },
  {
   "cell_type": "code",
   "execution_count": null,
   "metadata": {
    "scrolled": false
   },
   "outputs": [],
   "source": [
    "UB = math.inf#Upper boundary\n",
    "LB = 0#Lower boundary\n",
    "optimality_gap = UB - LB\n",
    "K_max = 10#Iteration limit\n",
    "epsilon = 0#Tolerance\n",
    "patched_edges = set()#Defence plan\n",
    "history_attack_edges = set()#Previous attack plans set\n",
    "history_attack_plans = {}#Previous attack plans dictionary\n",
    "S = {}#Temporary\n",
    "\n",
    "for i in range(1,K_max,1):\n",
    "    z_LO,x_sysprocess,y_sysprocess,x_network,y_network,b = attacker(nodes_network,edges_network,s_network,t_network,\n",
    "                        targets_network,att_budget,att_cost,nodes_sysprocess,edges_sysprocess,s_sysprocess,t_sysprocess,\n",
    "                        sys_input,sys_output,capability_input,capability_output,process,art_edges_t_sysprocess,\n",
    "                        capacity_sysprocess,targets_sysprocess,graph_relation,history_attack_plans,patched_edges)\n",
    "    \n",
    "    new_attack_edges = set([i for i in y_network if y_network[i].value == 1])#Determine attack paths\n",
    "    history_attack_edges = history_attack_edges.union(new_attack_edges)#Merge new with previous\n",
    "    for j in y_network:\n",
    "        S[j] = y_network[j].value#Dictionary of new attacks\n",
    "    history_attack_plans[i] = S#Append new to previous\n",
    "    \n",
    "    if z_LO > LB:\n",
    "        LB = z_LO\n",
    "        \n",
    "    if UB - LB <= epsilon:\n",
    "        print('Optimum found! Effectivity:',LB,'. Best attack:',new_attack_edges,'. Best defence:',patched_edges,'.')\n",
    "        break\n",
    "\n",
    "    z_UP_DAD,x_sysprocess,y_sysprocess,x_network,b,w = defender(nodes_network,edges_network,s_network,t_network,\n",
    "                        targets_network,att_cost,nodes_sysprocess,edges_sysprocess,s_sysprocess,t_sysprocess,sys_input,\n",
    "                        sys_output,capability_input,capability_output,process,art_edges_t_sysprocess,\n",
    "                        art_edges_s_network,capacity_sysprocess,targets_sysprocess,graph_relation,\n",
    "                        history_attack_edges,def_cost,def_budget)\n",
    "\n",
    "    patched_edges = set([(i,j) for i,j in w if w[i,j].value == 1])#Determine defence plan\n",
    "    \n",
    "    if z_UP_DAD < UB:\n",
    "        UB = z_UP_DAD\n",
    "    \n",
    "    if UB - LB <= epsilon:\n",
    "        print('Optimum found! Effectivity:',UB,'. Best attack:',new_attack_edges,'. Best defence:',patched_edges,'.')\n",
    "        break"
   ]
  },
  {
   "cell_type": "markdown",
   "metadata": {
    "heading_collapsed": true
   },
   "source": [
    "## Visualize Solution with NetworkX"
   ]
  },
  {
   "cell_type": "code",
   "execution_count": null,
   "metadata": {
    "hidden": true
   },
   "outputs": [],
   "source": [
    "#Prepare graph visualisation\n",
    "greyed_out = [(i,j) for (i,j) in x_network if (i,j) not in history_attack_edges]\n",
    "\n",
    "#Prepare network attack visualisation\n",
    "x_network_edge_list_0 = [(i,j) for i,j in x_network if x_network[i,j].value == 0]\n",
    "x_network_node_list_0 = list(set(itertools.chain.from_iterable(x_network_edge_list_0)))\n",
    "x_network_edge_list_1 = [(i,j) for i,j in x_network if x_network[i,j].value >= 1]\n",
    "x_network_node_list_1 = list(set(itertools.chain.from_iterable(x_network_edge_list_1)))\n",
    "\n",
    "#Prepare network defence visualisation\n",
    "w_1 = [(i,j) for i,j in w if w[i,j].value == 1]\n",
    "\n",
    "#Prepare sysprocess visualisation\n",
    "y_sysprocess_edge_list_0 = [(i,j) for i,j in y_sysprocess if y_sysprocess[i,j].value == 0]\n",
    "y_sysprocess_node_list_0 = list(set(itertools.chain.from_iterable(y_sysprocess_edge_list_0)))\n",
    "y_sysprocess_edge_list_1 = [(i,j) for i,j in y_sysprocess if y_sysprocess[i,j].value >= 1]\n",
    "y_sysprocess_node_list_1 = list(set(itertools.chain.from_iterable(y_sysprocess_edge_list_1)))"
   ]
  },
  {
   "cell_type": "code",
   "execution_count": null,
   "metadata": {
    "hidden": true
   },
   "outputs": [],
   "source": [
    "node_colors_network = ['lightblue' if i in x_network_node_list_1 \n",
    "                       else 'lightgray' for i in network.nodes()]\n",
    "edge_colors_network = ['blue' if (i, j) in x_network_edge_list_1\n",
    "                       else 'red' if (i, j) in w_1 \n",
    "                       else 'lightgray' if (i, j) in greyed_out \n",
    "                       else 'black' for (i, j) in network.edges()]\n",
    "edge_widths_network = [2 if (i, j) in x_network_edge_list_1\n",
    "                       else 2 if (i, j) in w_1\n",
    "                       else 1 for (i, j) in network.edges()]"
   ]
  },
  {
   "cell_type": "code",
   "execution_count": null,
   "metadata": {
    "hidden": true,
    "scrolled": false
   },
   "outputs": [],
   "source": [
    "fig, ax = plt.subplots(figsize=(12, 12))\n",
    "nx.draw_networkx_nodes(network, pos=pos_network, ax=ax, node_color=node_colors_network,\n",
    "                       edgecolors='black', node_size=2000)\n",
    "nx.draw_networkx_labels(network, pos=pos_network, ax=ax, labels=dict(zip(nodes_network, nodes_network)),\n",
    "                        font_size=20)\n",
    "nx.draw_networkx_edges(network, pos=pos_network, ax=ax, node_size=2000, arrowsize=25, edge_color=edge_colors_network, width=edge_widths_network)\n",
    "plt.axis('off')\n",
    "plt.show()"
   ]
  },
  {
   "cell_type": "code",
   "execution_count": null,
   "metadata": {
    "hidden": true
   },
   "outputs": [],
   "source": [
    "node_colors = ['lightblue' if i in y_sysprocess_node_list_1 else 'lightgray'\n",
    "               for i in sysprocess.nodes()]\n",
    "edge_colors = ['blue' if (i, j) in y_sysprocess_edge_list_1 else 'black'\n",
    "               for (i, j) in sysprocess.edges()]\n",
    "edge_widths = [2 if (i, j) in y_sysprocess_edge_list_1 else 1\n",
    "               for (i, j) in sysprocess.edges()]"
   ]
  },
  {
   "cell_type": "code",
   "execution_count": null,
   "metadata": {
    "hidden": true,
    "scrolled": false
   },
   "outputs": [],
   "source": [
    "ig, ax = plt.subplots(figsize=(12, 24))\n",
    "nx.draw_networkx_nodes(sysprocess, pos=pos_sysprocess, ax=ax, node_color=node_colors,\n",
    "                       edgecolors='black', node_size=2000)\n",
    "nx.draw_networkx_labels(sysprocess, pos=pos_sysprocess, ax=ax, labels=dict(zip(nodes_sysprocess, nodes_sysprocess)),\n",
    "                        font_size=20)\n",
    "nx.draw_networkx_edges(sysprocess, pos=pos_sysprocess, ax=ax, node_size=2000, arrowsize=25, edge_color=edge_colors, width=edge_widths)\n",
    "plt.axis('off')\n",
    "plt.show()"
   ]
  }
 ],
 "metadata": {
  "kernelspec": {
   "display_name": "Python 3 (ipykernel)",
   "language": "python",
   "name": "python3"
  },
  "language_info": {
   "codemirror_mode": {
    "name": "ipython",
    "version": 3
   },
   "file_extension": ".py",
   "mimetype": "text/x-python",
   "name": "python",
   "nbconvert_exporter": "python",
   "pygments_lexer": "ipython3",
   "version": "3.7.11"
  },
  "varInspector": {
   "cols": {
    "lenName": 16,
    "lenType": 16,
    "lenVar": 40
   },
   "kernels_config": {
    "python": {
     "delete_cmd_postfix": "",
     "delete_cmd_prefix": "del ",
     "library": "var_list.py",
     "varRefreshCmd": "print(var_dic_list())"
    },
    "r": {
     "delete_cmd_postfix": ") ",
     "delete_cmd_prefix": "rm(",
     "library": "var_list.r",
     "varRefreshCmd": "cat(var_dic_list()) "
    }
   },
   "types_to_exclude": [
    "module",
    "function",
    "builtin_function_or_method",
    "instance",
    "_Feature"
   ],
   "window_display": false
  }
 },
 "nbformat": 4,
 "nbformat_minor": 4
}
